{
 "cells": [
  {
   "cell_type": "markdown",
   "id": "bd8d9a3c",
   "metadata": {},
   "source": [
    "# ROSALIND PROBLEMS"
   ]
  },
  {
   "cell_type": "markdown",
   "id": "e3d3ecad",
   "metadata": {},
   "source": [
    "## Calculating Expected Offspring https://rosalind.info/problems/iev/"
   ]
  },
  {
   "cell_type": "code",
   "execution_count": 1,
   "id": "2864eb50",
   "metadata": {},
   "outputs": [
    {
     "data": {
      "text/plain": [
       "[['AA', 'AA'],\n",
       " ['AA', 'Aa'],\n",
       " ['AA', 'aa'],\n",
       " ['Aa', 'Aa'],\n",
       " ['Aa', 'aa'],\n",
       " ['aa', 'aa']]"
      ]
     },
     "execution_count": 1,
     "metadata": {},
     "output_type": "execute_result"
    }
   ],
   "source": [
    "s=0\n",
    "for x in range(1,7):\n",
    "    for y in range(1,7):\n",
    "        s+=1/36*(x+y)\n",
    "s\n",
    "couples=\"\"\"AA-AA\n",
    "AA-Aa\n",
    "AA-aa\n",
    "Aa-Aa\n",
    "Aa-aa\n",
    "aa-aa\"\"\"\n",
    "\n",
    "couples=couples.replace('\\n',' ').split(' ')\n",
    "couples\n",
    "\n",
    "for i in range(len(couples)):\n",
    "    couples[i]=couples[i].split('-')\n",
    "    \n",
    "    \n",
    "couples"
   ]
  },
  {
   "cell_type": "code",
   "execution_count": 2,
   "id": "43d7da83",
   "metadata": {},
   "outputs": [
    {
     "name": "stdout",
     "output_type": "stream",
     "text": [
      "[1, 1, 1, 0.75, 0.5, 0.0]\n"
     ]
    },
    {
     "data": {
      "text/plain": [
       "array([2. , 2. , 2. , 1.5, 1. , 0. ])"
      ]
     },
     "execution_count": 2,
     "metadata": {},
     "output_type": "execute_result"
    }
   ],
   "source": [
    "import numpy as np\n",
    "def probabilities_ofspring_not_dominant(couple):  # probability that offspring=(a,a)\n",
    "    domi_1=couple[0].count('a')\n",
    "    domi_2=couple[1].count('a')\n",
    "    if domi_1==0 or domi_2==0 : prob=0\n",
    "    else:\n",
    "        prob=(domi_1*domi_2)/4\n",
    "    return prob\n",
    "\n",
    "prob_offspring_dominant=[]\n",
    "for couple in couples: #probability that offsrping has dominant phenotype = 1 - p(a,a)\n",
    "    prob_offspring_dominant.append( 1- probabilities_ofspring_not_dominant(couple))\n",
    "    \n",
    "print(prob_offspring_dominant)\n",
    "\n",
    "# expected dominant offsrpings for each couple if they have 2 kids\n",
    "expected_offsprings_dominant=2*np.array(prob_offspring_dominant)\n",
    "expected_offsprings_dominant "
   ]
  },
  {
   "cell_type": "code",
   "execution_count": 3,
   "id": "b4ebd3b2",
   "metadata": {},
   "outputs": [
    {
     "data": {
      "text/plain": [
       "3.5"
      ]
     },
     "execution_count": 3,
     "metadata": {},
     "output_type": "execute_result"
    }
   ],
   "source": [
    "population = np.array([1, 0, 0, 1 ,0 ,1])\n",
    "\n",
    "expected_value=sum(population*expected_offsprings_dominant)\n",
    "expected_value"
   ]
  },
  {
   "cell_type": "code",
   "execution_count": 4,
   "id": "8e9dcfab",
   "metadata": {},
   "outputs": [
    {
     "data": {
      "text/plain": [
       "159093.0"
      ]
     },
     "execution_count": 4,
     "metadata": {},
     "output_type": "execute_result"
    }
   ],
   "source": [
    "population=[18943, 19733 ,19075, 17770 ,16936, 17156]\n",
    "\n",
    "expected_value=sum(population*expected_offsprings_dominant)\n",
    "expected_value"
   ]
  },
  {
   "cell_type": "code",
   "execution_count": null,
   "id": "4796f160",
   "metadata": {},
   "outputs": [],
   "source": []
  },
  {
   "cell_type": "markdown",
   "id": "612f6d48",
   "metadata": {},
   "source": [
    "## Mendel's First Law https://rosalind.info/problems/iprb/"
   ]
  },
  {
   "cell_type": "markdown",
   "id": "28eb34fc",
   "metadata": {},
   "source": [
    "#### Simulation:"
   ]
  },
  {
   "cell_type": "code",
   "execution_count": 5,
   "id": "7770bcb2",
   "metadata": {},
   "outputs": [],
   "source": [
    "# homozygous dominant\n",
    "class homo_domi(): \n",
    "    def __init__(self):\n",
    "        self.alleles=['X','X']\n",
    "        \n",
    "# heterozygous\n",
    "class homo_rec():\n",
    "    def __init__(self):\n",
    "        self.alleles=['x','x']\n",
    "    \n",
    "# homozygous recessive    \n",
    "class hete():\n",
    "    def __init__(self):\n",
    "        self.alleles=['X','x']\n",
    "    \n",
    "\n",
    "k=17  # homozygous dominant\n",
    "m=24  # heterozygous\n",
    "n=30  # homozygous recessive\n",
    "\n",
    "values=[k,m,n]\n",
    "l=[homo_domi(),hete(),homo_rec()]\n",
    "\n",
    "population=[]\n",
    "for j,val in enumerate(values):\n",
    "    for i in range(val):\n",
    "         population.append(l[j])\n"
   ]
  },
  {
   "cell_type": "code",
   "execution_count": 6,
   "id": "895453f8",
   "metadata": {},
   "outputs": [
    {
     "data": {
      "text/plain": [
       "0.65232"
      ]
     },
     "execution_count": 6,
     "metadata": {},
     "output_type": "execute_result"
    }
   ],
   "source": [
    "\n",
    "import numpy as np\n",
    "N=50000\n",
    "c=0\n",
    "for i in range(N):\n",
    "    mates=np.random.choice(population,2,replace=False)\n",
    "    genes=[]\n",
    "    for mate in mates:\n",
    "        gene=np.random.choice(mate.alleles,1)\n",
    "        genes.append(gene)\n",
    "    if( 'X' in  genes ):\n",
    "        c+=1\n",
    "c/N"
   ]
  },
  {
   "cell_type": "code",
   "execution_count": 7,
   "id": "ef617cf0",
   "metadata": {
    "scrolled": true
   },
   "outputs": [
    {
     "data": {
      "text/plain": [
       "0.6523138832997988"
      ]
     },
     "execution_count": 7,
     "metadata": {},
     "output_type": "execute_result"
    }
   ],
   "source": [
    "#probabilities\n",
    "def prob(k,m,n):\n",
    "    N = k+m+n\n",
    "    # P(having at least one X)= 1- P(x,x) \n",
    "    return 1 - ( 0.5*m*n+0.5*n*m + 0.25*m*(m-1) + n*(n-1) ) / ( N*(N-1) )\n",
    "\n",
    "prob(k,m,n)"
   ]
  },
  {
   "cell_type": "code",
   "execution_count": null,
   "id": "ea6de402",
   "metadata": {},
   "outputs": [],
   "source": []
  },
  {
   "cell_type": "markdown",
   "id": "569f79e8",
   "metadata": {},
   "source": [
    "### Translating RNA into Protein https://rosalind.info/problems/prot/"
   ]
  },
  {
   "cell_type": "code",
   "execution_count": 8,
   "id": "47d71761",
   "metadata": {},
   "outputs": [],
   "source": [
    "table= {\"UUU\":\"F\", \"UUC\":\"F\", \"UUA\":\"L\", \"UUG\":\"L\",\n",
    "       \"UCU\":\"S\", \"UCC\":\"s\", \"UCA\":\"S\", \"UCG\":\"S\",\n",
    "       \"UAU\":\"Y\", \"UAC\":\"Y\", \"UAA\":\"STOP\", \"UAG\":\"STOP\",\n",
    "       \"UGU\":\"C\", \"UGC\":\"C\", \"UGA\":\"STOP\", \"UGG\":\"W\",\n",
    "       \"CUU\":\"L\", \"CUC\":\"L\", \"CUA\":\"L\", \"CUG\":\"L\",\n",
    "       \"CCU\":\"P\", \"CCC\":\"P\", \"CCA\":\"P\", \"CCG\":\"P\",\n",
    "       \"CAU\":\"H\", \"CAC\":\"H\", \"CAA\":\"Q\", \"CAG\":\"Q\",\n",
    "       \"CGU\":\"R\", \"CGC\":\"R\", \"CGA\":\"R\", \"CGG\":\"R\",\n",
    "       \"AUU\":\"I\", \"AUC\":\"I\", \"AUA\":\"I\", \"AUG\":\"M\",\n",
    "       \"ACU\":\"T\", \"ACC\":\"T\", \"ACA\":\"T\", \"ACG\":\"T\",\n",
    "       \"AAU\":\"N\", \"AAC\":\"N\", \"AAA\":\"K\", \"AAG\":\"K\",\n",
    "       \"AGU\":\"S\", \"AGC\":\"S\", \"AGA\":\"R\", \"AGG\":\"R\",\n",
    "       \"GUU\":\"V\", \"GUC\":\"V\", \"GUA\":\"V\", \"GUG\":\"V\",\n",
    "       \"GCU\":\"A\", \"GCC\":\"A\", \"GCA\":\"A\", \"GCG\":\"A\",\n",
    "       \"GAU\":\"D\", \"GAC\":\"D\", \"GAA\":\"E\", \"GAG\":\"E\",\n",
    "       \"GGU\":\"G\", \"GGC\":\"G\", \"GGA\":\"G\", \"GGG\":\"G\",}\n",
    "\n",
    "data='AUGAGUCGACUAUGCAAAUUGCAUAGUGCGGAGUCGUGGAAGACACGCACCACCUGGAAAUUUAGGAUACCUGCCUCCCUGGCAAUACUUACUGCACCCAUCCAGCUUCCUCCGCUCCACCUUCCACAGCAGAGGCCUAUGGUGAAGUCCUCGCAGUCCUUUCCAACUGUAGGUAGUACUAUAAGCCUGUGUACAAAAGCCUGGAUUAUAUCCAAUUUGGCUCCGAACACAACACGCCAAGAUCCAGAAAUGUCUGUCAAAAUAUUCGCGGUAUGCAAGACUGUGUAUAUCGAUACAUCAGUACGGGGGACAUCUCUAAUUGCUUACCGGAAGCUGCUCCUUCGCAAAUCCUCAUCGUCUAUACGUUAUGAGUACGUCGAAUCGGAAGCAUUCUUAACCUUUGAUACUGCUUGCGUACAAAAGUUUUACUUAAAGCUACCUCGACACAUUAAUUUAUACAUGGCGUGUAUGUUCAGUGGACAGGGCAGGAAUCAUCCAUUGGAUUUCACAAGGGCCUGGAUAUGCAUCGCAAAGAUUUUGGUCGACUGUCUCGUAUUCCCGGCAAAACUCACAGCGACACCUAUGUCCCCGUACGUGCCUUUUCGAGCAUGGACUGCCCCUUCCUGGAGGGUCGCUCAGCACGCGCACGAGUUGCAUUCUUGUCAGCGUAUAGAUUCUUGUGCCGCAAUUCCAGCUUCGUUAGUUAGAUCCUUCCCAGAAUCCCAAUGGGACAAAGCUAUGGACCUCUAUUCCCUAGGACGAUUUACUAAGUUCCUAGUUCUAACUCGCAGGUGCCCUCCGUCCGCUAUACUCCACGCGCCGUCAGGCUCGAUUAACUUGUGCUCUUUCGAUUGUUCGCUGGCGCUAAAAGGGAACUGGUCUUUCUUUGAGUACAUCCCUAUCGAGGAUAUUUACGACCACUUGGAUUUGCUUAGAAAUCGCUCUGCCACCGCCAUCAGACAACAGCUCAGGUUUCCAUUAGAACACACCCAGGAGCGUGGUUCCAUUACGACACUAGAAGACGAUGUCACCCCCGAUAAACACAUUGGUCGUAAGGAGGUGGUAUGCCUAGGUCCCGCCGGCUUGCCAGGAAUGAUGGUGUGUAGACAGCCGGAGCUCCAUAUCCUACGGCAAGCCCCCGAGGAACCCUAUAGCGUUGUAGUAAUAUUGUCAAUCUGCCCGCACGCAUUCACUGGGGCUUUUUUUCGCAGAGGACGUCGCUCUGCUGUCAAUUGCGGGACAGGUCCGCUGAGUCACGGAACACCGAAAUGCAGGUUUUCAAAGCGGGUCCGGAGUCAGGAGGGCCUACGAGACCCGGGAGACAACGCUAAGGGCGCGUCGCCCUAUUUCAUUGAGGCGGAGGCGCCAGCUACAAGAAACUGGAGGCGUGCUUCAGCUAAGGCUGGACCACACAUUAAACCGAGUGAGUUAUCAGGAAGCACUGUAUUUGCCCCUUUCCAAUUAAUACCUGCCAAGGGUGGAAUAGAGUUAAUCCGGUUAGGGUCAAUUGAGCCCCGUUGUAAUACUGAUAGAAGCUACGAGUGUACAGACAGGUUUACGUCUCGAACUUCUAAAACAGAUCUCUUUAGCCUAGCCAGUAAGGAGCACACCGCCGCAGGGUGUGCCCGUCGAGCUUUAUUUCACAGAUCGUACUGCUCAUGGGAGGGUCUGACAAACAGUCUCAACAAAGAGCCCCUACUUGGCGGAGAGAGACUGCAGGGACAUCACUUGAGUCUAUCGCCCGGUGUCUACGCAAGAAACCCUAGCGGAAUCUGCUAUCCCUGUUUUUGCCACUAUACUGAAGCAGAAAUAAUGACCCGAAGAUUAUUUCGCUUGGUUUCGCAGGGACAGCAGAUCGGCAAGGAAAAUGCACGCGUUACCACAAUCAUUUGUCCAGAUAGUGUACUACCACAGGUGUCUUUAAUGCGUACCCCAUUUGAUUCCGAUAGCGGUGUAGCGAUUCUCAGCAACCAUGACCUUACUGUGAAUUGCACCGGCCUUAAGAAACAGGAGUACCGCAGGAAUCCGUUUCUUCAACCAAUAGGGCGGUGGCACCUUAACGACCAAGAAAAAAAGACGGUACCAGCCCUCGAGAUUCAGGCAACUGUUUCCUGGGCACCAGGGGGAUCAAAUGCCUAUUAUGAGUCAGUCUCUAGAAUGAGUUGGAGGGUACCUACGCCCCUUAUAGCUAUCAAUAGGCAGUUCAUAACGUCUACCCUGGGCAUAGGAUUUAGACAGGGCCUGGCCCCCCCAGACGUACAAACUUUAAUGUGCUUUUACCUAAGUAGAGGAGAAUGUUGUCUCCCCUUUGCGAGACUGAGGAUACACCGCAUGGCUGUUGCCCUUGUUCGGUGGCCAGCUGAACCUUAUGUUAACAAUGUCUGCAUCACAUCAGUAAUGCACGUAACCUGCCGAGCGGAGAGAAAUACCUAUCUGGGCAUGGUCUAUGGUUCGGAAGUACACACUCUGCGACUUUCGACGAAAUUCCUUUGGGCUUGCCACUCUCGAGGGUGCCCAAACCGGGGUGGAAUUAUUUGUUGCGAAGGGAAGACAGCCACGUGUGCGCCAACUUAUACUAGUCAUACGUCUGAUAUGGAUGAAAAUACGCGCGUUAAGCCUGGCAAAUGCGUUUCUCGGGAUAGCACUUUAGGCAUUUUCCCGGAGCGGUUGCUGAACCGACGGUUUUCAAAUAUGAACCCGACACAACUAGGCAUCGGCCGGGGCGUCAUUAACUCAUUUAUACAAAAAGCCUCUAUGAGACUAUACUCCAAAUGUACGAGUAGGACCGCCGGAGUCUCAGAGCAGAAGUUGAUGCUCCGGCGGAAGUUUCGCAAUAGGGCUACUAUGUUAAUUAAGGAAUUGGGACAAUGGACGCCGAACCGGGCUCGCAUAAACACUCCAUACAAAUCAAACGUUAUGAUAGUUCGAACAUCUUGGUUUACGUGCGUAGCUCGUAGUAGAAGCACUUCAGCAAAACUAACAGAAAGCCAUCGACUGAGUGAUUCUACGAAAUGCGAGACGGCGUACAGUCUAGCCGCGCCAGGCUUUAUUUGUCGACUUAAGCGGCCGGGGAGUUUUGUCGCAUCUCCCUCGACUAAGGUGAUGUCACUGCUGAUAGUCGUUCCGAACUGCUGGAUCCAACCCAUCAAGGGCCCGAGCAGGUCCAAGCGAGGCUAUGGCGAUCCCAAUUAUCAAACCAUGGUACAUCAGUGCCUGAGACUAAGACAUGCCUCUGAUAGCCGGAACACAGUCGUCCAAUUUCCCACCGGCGUGACUUUCCUUGGCUAUUGGUCCGAUACCGGAAAGACUACUCAACUCCGAAAUCACACCUUGAGUGGCGCUUUAGAUACGACCUUCGAUCGCUCGGUCCAAGCCGUAGGACGAAAUACUUGGUAUGGCCGUGGGCUUAGUGGCGUCCUCUACCCCUUACAGUCUUACAUGCCCACGUCGCUUACAAAUCAAGCUCGGCUGGAACGAUCCGAACAUUCGGGGCGUACGAUCGUGUGGAUUUGGUAUAGUAUCGCAGUCCGAGAGAGUGGGCCCAUUAGGGAGCGUCCCCGGGCUGAAUGGACGUGGGUUAGGAGCGCCACCCUUCACAAUAGUCCAGGCAUUGGCCUCCUGACAGCCGCACGGCGCCUAAGGGGGAUGUACACCCGCCGGCGCGCAAGCCCGGGUUCAAAAAUCAGUUACGCUCCUGGGUCAGCUUUGCGUGACCUUCAAGUCAUAUUGGUUGGUAUAGGGAGCAGGGCCAACCUGGCAUACGCUUCCAAGGCAACUUUACAUUUCCGAUUCCAGCAUCGAGGAACUGAGCUUAGGGCAUUUCGGUCUUUCCGUGACCCUGACUCUGCCGGCUUGAGUAAUAAUAACCAUAUCCUUUGCUCUCUGCAGGAAAGCGGGAGUCGUCUUGAAUUUCGAUUAAUAACCACCAUCAAGUUCCCCAUGGAGGAUAAGGCUGGUACUUCAACUGUUGUGGGUCGGUAUUGCAGUAACGAUCGUGCCAUGUGCCCUCGGAAAAGCCCGGUUCCCUGCCCCCAAGGACGAAUGGGUGCUAUCUAUGUACAGGCCUGUAUCUGUGCAAUCUCAAAGAUUAAGAUUAGGAUGAGCUGUAAGGAUAUAACUCGGUAUGAUUGUUACAUGCCAAUAGUAGUAGUCAGAUGCACAUUGCCGAGGUGGUCGGGCCGAGCCCCAGAAACCUAUAUCAGAAACCUCAUGCGCCACCGGUCGCCAAUGCGACCGACCUACGGGUGUGGGGCGGCUUUUUGGGGGGACCUCGCUUUGCCUUAUUUAACUGCUUCAAAGAUGCUCGAAGAGUGCAUGAAUAGCCCAGAGAACUACGGCUUGUGCCCUUUUCAUCAUUUCUCCCGCGUAGACAGAUCUUGGUCAACCGGAACAGUAUAUUACCUGCUGAUCUUACUUCCCCGACAGCGUGUAGUCGGGAGGCGCAUUUUUCCGGAACUUUUCCGCACCGACAGGACCAGGGCAUUGCAGGUUCCUCGGGUUAAGCCCAAUUUUUUGGGAACUAAGUGGGGUUACUUAAUGCCGUGUGAUCGCCCAAGCUCCGGCCCUCUAGCAUGGCGAGGUAUCGCAUUCAUGCUUAGGCAAUACGUUCUGCCUGAGUGUAGUUGGAGUGGGACCGUCCUAGGCCUGGAGAUCAAGUUAGGGUUCUGUACAACUACGACACGGAGCCCCGAUGAGCAGAUUUUUACCCUAUUCUUCCGGCGACGCUGCUUUUUACGGCGAAGCAGAGAUAUAACUCGGGGACUUAGGCUCACUACCGGGUUCGGACACACUGUGAGCCUCUGCACUCAAAAGAAUCAACGACCGCGUUUACUCCUCCCGCCCAGACGAAUGCGCGAGCAGGAACUAAUACGUCCAGCAGGUUAUAAUCUCAAGCAUAGUAUCAUUAGCUUGCUUAUUAGAUGUCGGACGGGAUCCCCUGCUAGGGUAGCGUUUAUCCAACCUAAGAAAAAAACACUUUGUUUGGGCCGCGCGUUACUAUUCGGCUCUUUGUGCCUGACGGCAGCCUUAUUCCGUCAGGACCACACAGAUACGCCCGUACUGGGAUCUCCGGCCCGUCGCAUGGUUCCGAGGCUGGGCGUACCCAUUUGGCAUGGGCACUCAGUGUCCUCGCAACCCUCGGAAAUUGCCAGGCAGCAGGGGCUAGUAAAGGCCGGCGUGGGCCCUGGACGGGACAAGCCAAAUGAAUAUGAGGGGGACGCAUCCGACCAAGGGACAUCGACAGGCCAUUGGGUGACACAGGGAAGUGAGAACAGUAGCCGAUUAGAUCUCCCUGGCCCUAGGGAGUACCAUCUAGCACGAUGGUUUUGGGCUCUCAUUGGGUCCAUCGCGUAUCGCCCCAAUCCGUCAGGUAUGCAACAUUUCACUAAAGAAUCUUGUUGGGCUGGGCGGUAUAUGUUGGGUAUAACACGAUCAUCUGACCAGCCACCGAGGGAUGACCCUGCCGGAGUAGCAACGUGGUGCGAAUGCGAAAGCUCCAAUCAUGGAAGCUCUAUAAAUUUUACGCGGAAGCCAUCGCCACAGCGAGAUUGGGCAUUGAGUUGUCGGUGCCGCCUGAAGUCACGUGAAGCCGCUAAAUCACCCUCACGCAAUGAAAUGGCUAAAUUAAAAGGACGCAGGUCGUGCGUACGGGGAGCUUCGAAAAUCAGGAACUGGACUGGCCCGACUCAGAUAGAAUGGAUUCGCUCUAGAACGCGAGAUCUUCCGCCGACUGUGAAACGGAUCAAAAUUAUGACUUUCUAUGGUUGCUGUUCCCGCCUGUCACUACGGGUGGUUCAGCGUGUGAUGGCUCAACCGGCAUUAGGGUUCAAAGGAGUAAUAGCCUGGGUAUGGAUAGUCAAUUUGAACGACGCCGAGUCAGGGAGACGCCCACCGAGUACCCCAGUACUUUUUUUCGUAAGCGCAACUAGGUUGAAAGCGUAUAGUUCUGAGGUUACUGGCAAUGUAUAUAGGACCAAGUUGGGCACAGUGAGUGACGCUUUUAGUGGCGGCGGCUUUUGGAGCCCACUACAUGAUAAGGUGCCGUUUCCUCCAAUGAUUGAAGGUCAGGGAGUUUCUAUGACGCCGGGCAAGCUGAGAAGAAUCCUCGCGUUAGAUUAUCAUAGAGAGCAGCUAAAACCUGAGCCCCAGACGCUACGUAUGCGCUAUUCUGAAGUAAAUCCUUGGGCCGAGAUCCUUUUCUCGAUGGCUGUGCUUUUACUGCUUCACAGGAAGAAGAAAGAGACUCCGUGUACGCCGAUCAUUCGUACGCUAACCGGCACAUCGUUGGGUUUGAAUGAACUUUUAGUAGACGUCAGCGCGAAUACGGGGAAAACCACAUGUACAGCGAUCUCUUGGGCUCCUCCCCAAUGCAUCAAAAAGGGGCGCGGAGUUGAUAGCAUUUUGCCGUGUCGCACUAAACUUGGAGGCAUCUCAACAGCUUGGCGAACAAGUCCUCGCUUCUUUAUUGGGUUCGUACGCCCCAUCAUGGAAGUCCCGGGAGGUGUAUCUAGGGCGCAUUGCAUUCCAGCUCCAUGUAGGACCAUUCGGGUUGCUUCCAUUCCACACGGGAACACUAGAAAAAACCCAGUCAUUAGCACACUGCACUCGCAGAGGGUGUCCAACCUAGAGGGAAUAGAGGGUUUUCAUUCUAAUAGUAGGCCUGCACCUCUGGCUUCCGGUUAUUUACGAGAUGGUGCACUUAAUUCGCAAGUUUCAUUGCAGAUGGUUUUAUGCGAUAGAGCUGAGCCUACUACAAGCCUGUUUCUCCUGUCCUUGACAUGCUCUGCCCGAGACAGCACUGUCCACGCUGUCAUGCCUGCAGACGUUCUAUUCCUAGAGAGUCAACGCACCGAUCGACUGUGGGCCAUUUGUGUAACUGCUCAUUACGGCCUAAACGACGACCCUACGGAGGGAUUCGUGUCACCGGCUUGCUGCAACUCAUUUUUGUCUACCCUAAAUGGAGGUUUUCCGGUCUCACUCGGCGUGGACCACGAGACUCGAAUCCGGUUCGAACGCGGAACACCGCCUCUAAUAGGCAUCACUCCGUAUACUAUAGUUAUGUUAUUUCCUACGUUUUCGGUUGGCAUCUUGUCGUGCCCGGUUUGUGUGUGUAGUUACGUUAUGAUGACUGCCUCUACCUAUCGGCCAGUACGACUAUCCCUGUGUAGGAAUCAUAUGAGAUUAUACGCAAUACUAGUGGAACUUAAGAUACGAUUACGUGUAGGCACGAUAAGUAAUACAUUCAGGUGUCACAUGUUAUACAUGCAGUUCGUUUACCCAUACUCGAGCAGCAACGGCAUGAUGGAAGAUCCCCUGAAGACAUACGAAAACAGUGGCCAGGUUGCGCUGCAACGACUAAGUAUUGGGUCGUACACGCUUGAGCUGGAAAGGUCAGCACGGAAGUGUUUCACUCAACUGAACGAACGCUUUCGAUUUAGAUUACGCCAAGUCUCGUAUUUUCUCUUGUCGUCUAAUGAUCGUCCGAUACCAUUAGGUGGUCUGAGAUACCAAAACCUCCGUAGCCUAGUCUAUUUGAAGUUGCCGACGUCUGCACCGUGUAAGGUUACGCGCCAACCACACCCACAACUCGAACGCCGCCGCCCUCAACCGGUAUCACGCAAGAGUGCUUGCAUGGAAGCGAAAGGGAUCGGUGAAUCGUGGGAUUCCGGCAAUACGGGCGUGUCGCCUAGAAGUUCUAUAUUUAUGCUCGCAGGGAUGGACGCCCCACAUCCUCCUCUAGGUAUGUCGGCACAAAAAGUGUGGCAAGGUCGCCGAGAAUUCAUAAAAACGUCAUCUGCUGCAGACCUCACUUGGCCUGAGACGUUAAAGUUGAGUUCGAGGUUUAACUAUCACGAGCCAAUCAGAGUUUCGGCUCCUAAUCGCCUCCAUCUCCAAGGGGAUGUCGAUCUUAGCCUUCGUAUCAAGCACUUAAGGAGAAGGUUGUCACUUGUGCAACUUCAGGCCCUAGCCCCCAUCAGUGUCCAUAUUCGUGAUAGCGUCGAGGGGAGUAGGCUUUACGAAAACCCUAAACAACCCCCGGUUGAUACCAGUGUUACGGUCAUUGAGCAGUGUUCCACAACGGAUGACGGGCAGACUAAAUUGGCCGCUGCAGUGCGGAAUUCACGGCGAUCCACGUCACUAGCCCUAACAUAUUGCUCUCCGGAAAGGAUUCUUUUCUCCCACGUCCAAACGCGCUGUGAGCUGGUAGACGCACCUGCGACGGCUAGCCUAUUUGGGGGAACUCUUUCAACAUUCCUGUUGACGGGGGCACGCAAGACGGAAACGAGAGCUAUAGAGAAACGAAGCCCGUUGCAGCCGGCAGGAUACAGGGUAGUAACCCGCGAAGGGCGAGCGCACAUAACUCGUGCAAAAAUCCACGAGGACCUACGUACGGGGACCUUUAGUAGCCACGAAUGGCGAAUAUCUCUUCAAAACCUUUAUAACGUUAGGGUUAAUAUCAAGCUUUGCUCCAGGCACUGGCGCGUGCCUACGAUCGUAAGGGUAUUACCAAUUGCGGGCCUCGGAAUCAACGCAUUCAGCGGAAGAUCUCCGAAACUCUCAAAUUUAGGAAUGUUUACACGGUGUACUUUUAGAAUUAAGAAGCAUCAAUUGCUUCGGUCCUCCGUAGCUCUUCACAGCCGUUGCAAGAGCAUGACGCUAAACGGACCAGCAGGGACGGCUGAAACCCUUGCAGCUGCUGGUGUUGACGGAAUAUUGCGGUCUAUCAGCGUUAUCAGGGCACACCAGAGGCAAGAACAGGUUCUCCCGACAGAAAAGACACUCGCGGGAUUAUACAUAACCUUCAACUUAACGCAUCCACUUAUGUCCGAGUUUUUUGAGGUUUCAGCGAAUCGCACACUGUACGGAGUGAGUAAACCACUCUGUUCGCACCCGGCCGCUGAUGAUAUCUAUUUCCAGAAUAAGGUGAACCUAAUCACAGAUUACAUCAAGAGAAGUCUAUAA'\n",
    "\n"
   ]
  },
  {
   "cell_type": "code",
   "execution_count": 9,
   "id": "d8cb68de",
   "metadata": {},
   "outputs": [],
   "source": [
    "def rna_translation(data):\n",
    "    n=len(data)\n",
    "    res=''\n",
    "    for i in range(0,n,3):\n",
    "        key=data[i:i+3]\n",
    "        if table[key]=='STOP':\n",
    "            break\n",
    "        else:\n",
    "            res+=table[key]\n",
    "    return res\n",
    "\n",
    "res=rna_translation(data)"
   ]
  },
  {
   "cell_type": "code",
   "execution_count": 10,
   "id": "02e5e68a",
   "metadata": {
    "scrolled": true
   },
   "outputs": [
    {
     "data": {
      "text/plain": [
       "'MSRLCKLHSAESWKTRTTWKFRIPASLAILTAPIQLPPLHLPQQRPMVKSSQSFPTVGSTISLCTKAWIISNLAPNTTRQDPEMSVKIFAVCKTVYIDTSVRGTSLIAYRKLLLRKSSSSIRYEYVESEAFLTFDTACVQKFYLKLPRHINLYMACMFSGQGRNHPLDFTRAWICIAKILVDCLVFPAKLTATPMSPYVPFRAWTAPSWRVAQHAHELHSCQRIDSCAAIPASLVRSFPESQWDKAMDLYSLGRFTKFLVLTRRCPPSAILHAPSGSINLCSFDCSLALKGNWSFFEYIPIEDIYDHLDLLRNRSATAIRQQLRFPLEHTQERGSITTLEDDVTPDKHIGRKEVVCLGPAGLPGMMVCRQPELHILRQAPEEPYSVVVILSICPHAFTGAFFRRGRRSAVNCGTGPLSHGTPKCRFSKRVRSQEGLRDPGDNAKGASPYFIEAEAPATRNWRRASAKAGPHIKPSELSGSTVFAPFQLIPAKGGIELIRLGSIEPRCNTDRSYECTDRFTSRTSKTDLFSLASKEHTAAGCARRALFHRSYCSWEGLTNSLNKEPLLGGERLQGHHLSLSPGVYARNPSGICYPCFCHYTEAEIMTRRLFRLVSQGQQIGKENARVTTIICPDSVLPQVSLMRTPFDSDSGVAILSNHDLTVNCTGLKKQEYRRNPFLQPIGRWHLNDQEKKTVPALEIQATVSWAPGGSNAYYESVSRMSWRVPTPLIAINRQFITSTLGIGFRQGLAPPDVQTLMCFYLSRGECCLPFARLRIHRMAVALVRWPAEPYVNNVCITSVMHVTCRAERNTYLGMVYGSEVHTLRLSTKFLWACHSRGCPNRGGIICCEGKTATCAPTYTSHTSDMDENTRVKPGKCVSRDSTLGIFPERLLNRRFSNMNPTQLGIGRGVINSFIQKASMRLYSKCTSRTAGVSEQKLMLRRKFRNRATMLIKELGQWTPNRARINTPYKSNVMIVRTSWFTCVARSRSTSAKLTESHRLSDSTKCETAYSLAAPGFICRLKRPGSFVASPSTKVMSLLIVVPNCWIQPIKGPSRSKRGYGDPNYQTMVHQCLRLRHASDSRNTVVQFPTGVTFLGYWSDTGKTTQLRNHTLSGALDTTFDRSVQAVGRNTWYGRGLSGVLYPLQSYMPTSLTNQARLERSEHSGRTIVWIWYSIAVRESGPIRERPRAEWTWVRSATLHNSPGIGLLTAARRLRGMYTRRRASPGSKISYAPGSALRDLQVILVGIGSRANLAYASKATLHFRFQHRGTELRAFRSFRDPDSAGLSNNNHILCSLQESGSRLEFRLITTIKFPMEDKAGTSTVVGRYCSNDRAMCPRKSPVPCPQGRMGAIYVQACICAISKIKIRMSCKDITRYDCYMPIVVVRCTLPRWSGRAPETYIRNLMRHRSPMRPTYGCGAAFWGDLALPYLTASKMLEECMNSPENYGLCPFHHFSRVDRSWSTGTVYYLLILLPRQRVVGRRIFPELFRTDRTRALQVPRVKPNFLGTKWGYLMPCDRPSSGPLAWRGIAFMLRQYVLPECSWSGTVLGLEIKLGFCTTTTRSPDEQIFTLFFRRRCFLRRSRDITRGLRLTTGFGHTVSLCTQKNQRPRLLLPPRRMREQELIRPAGYNLKHSIISLLIRCRTGSPARVAFIQPKKKTLCLGRALLFGSLCLTAALFRQDHTDTPVLGSPARRMVPRLGVPIWHGHSVSSQPSEIARQQGLVKAGVGPGRDKPNEYEGDASDQGTSTGHWVTQGSENSSRLDLPGPREYHLARWFWALIGSIAYRPNPSGMQHFTKESCWAGRYMLGITRSSDQPPRDDPAGVATWCECESSNHGSSINFTRKPSPQRDWALSCRCRLKSREAAKSPSRNEMAKLKGRRSCVRGASKIRNWTGPTQIEWIRSRTRDLPPTVKRIKIMTFYGCCSRLSLRVVQRVMAQPALGFKGVIAWVWIVNLNDAESGRRPPSTPVLFFVSATRLKAYSSEVTGNVYRTKLGTVSDAFSGGGFWSPLHDKVPFPPMIEGQGVSMTPGKLRRILALDYHREQLKPEPQTLRMRYSEVNPWAEILFSMAVLLLLHRKKKETPCTPIIRTLTGTSLGLNELLVDVSANTGKTTCTAISWAPPQCIKKGRGVDSILPCRTKLGGISTAWRTSPRFFIGFVRPIMEVPGGVSRAHCIPAPCRTIRVASIPHGNTRKNPVISTLHSQRVSNLEGIEGFHSNSRPAPLASGYLRDGALNSQVSLQMVLCDRAEPTTSLFLLSLTCSARDSTVHAVMPADVLFLESQRTDRLWAICVTAHYGLNDDPTEGFVSPACCNSFLSTLNGGFPVSLGVDHETRIRFERGTPPLIGITPYTIVMLFPTFSVGILSCPVCVCSYVMMTASTYRPVRLSLCRNHMRLYAILVELKIRLRVGTISNTFRCHMLYMQFVYPYSSSNGMMEDPLKTYENSGQVALQRLSIGSYTLELERSARKCFTQLNERFRFRLRQVSYFLLSSNDRPIPLGGLRYQNLRSLVYLKLPTSAPCKVTRQPHPQLERRRPQPVSRKSACMEAKGIGESWDSGNTGVSPRSSIFMLAGMDAPHPPLGMSAQKVWQGRREFIKTSSAADLTWPETLKLSSRFNYHEPIRVSAPNRLHLQGDVDLSLRIKHLRRRLSLVQLQALAPISVHIRDSVEGSRLYENPKQPPVDTSVTVIEQCSTTDDGQTKLAAAVRNSRRSTSLALTYCSPERILFSHVQTRCELVDAPATASLFGGTLSTFLLTGARKTETRAIEKRSPLQPAGYRVVTREGRAHITRAKIHEDLRTGTFSSHEWRISLQNLYNVRVNIKLCSRHWRVPTIVRVLPIAGLGINAFSGRSPKLSNLGMFTRCTFRIKKHQLLRSSVALHSRCKSMTLNGPAGTAETLAAAGVDGILRSISVIRAHQRQEQVLPTEKTLAGLYITFNLTHPLMSEFFEVSANRTLYGVSKPLCSHPAADDIYFQNKVNLITDYIKRSL'"
      ]
     },
     "execution_count": 10,
     "metadata": {},
     "output_type": "execute_result"
    }
   ],
   "source": [
    "res.upper()"
   ]
  },
  {
   "cell_type": "code",
   "execution_count": null,
   "id": "570dd63a",
   "metadata": {},
   "outputs": [],
   "source": []
  },
  {
   "cell_type": "code",
   "execution_count": null,
   "id": "ba8a5484",
   "metadata": {},
   "outputs": [],
   "source": []
  },
  {
   "cell_type": "markdown",
   "id": "53c82ac4",
   "metadata": {},
   "source": [
    "### Open Reading Frames https://rosalind.info/problems/orf/"
   ]
  },
  {
   "cell_type": "code",
   "execution_count": 11,
   "id": "ef37bf9b",
   "metadata": {},
   "outputs": [],
   "source": [
    "from Bio import SeqIO\n",
    "\n",
    "fasta = \"rosalind_orf.txt\"\n",
    "from Bio import SeqIO\n",
    "\n",
    "arr=[]\n",
    "with open(fasta) as handle:\n",
    "    for record in SeqIO.parse(handle, \"fasta\"):\n",
    "        arr.append(record.seq)\n",
    "data=arr[0]\n"
   ]
  },
  {
   "cell_type": "code",
   "execution_count": 12,
   "id": "8c8dbe89",
   "metadata": {
    "scrolled": true
   },
   "outputs": [
    {
     "name": "stdout",
     "output_type": "stream",
     "text": [
      "MVRECPSVSKHGQIPGCSVRPVPGTPAPGA\n",
      "MTA\n",
      "MPMLTHDPCR\n",
      "MWFLTLECC\n",
      "MANVLNLGPRL\n",
      "MLTHDPCR\n",
      "MIEISSGEPPMVRECPSVSKHGQIPGCSVRPVPGTPAPGA\n",
      "MNTAGLTFGTSSACSSGSRRRLPRPLKSFLRRC\n",
      "MQICIDGKLTRD\n",
      "MEN\n",
      "MRVVITANTSTCRSALMEN\n",
      "MGDKERVNTRGPSLRLNNTPK\n",
      "MFEDSQMRVVITANTSTCRSALMEN\n",
      "MKTH\n",
      "MSVMPMLTHDPCR\n",
      "MTWTLRAVLCNVSSHPRDTYAVKSLIGS\n",
      "MF\n",
      "MPSNL\n",
      "M\n",
      "MPGFISASSLLG\n",
      "MAE\n",
      "MPKRSQR\n",
      "MQICM\n",
      "MSVRVEARANTRLFCPSCPWNSGTWCLTNVHS\n",
      "MSLTI\n",
      "MDLACSHAPYPPSPCSSGQIVRLI\n",
      "MGVAAFDGTH\n"
     ]
    }
   ],
   "source": [
    "import rosalind as r\n",
    "proteins=r.open_reading_frames(data,r.dna_table)\n",
    "reverse_complement=r.complementary_dna(data)\n",
    "\n",
    "proteins+=r.open_reading_frames(reverse_complement,r.dna_table)\n",
    "\n",
    "for protein in set(proteins):\n",
    "    print(protein)"
   ]
  },
  {
   "cell_type": "code",
   "execution_count": null,
   "id": "4d386683",
   "metadata": {},
   "outputs": [],
   "source": []
  },
  {
   "cell_type": "markdown",
   "id": "2debbaec",
   "metadata": {},
   "source": [
    "### Finding a Shared Motif: https://rosalind.info/problems/lcsm/"
   ]
  },
  {
   "cell_type": "code",
   "execution_count": 13,
   "id": "eddd4e55",
   "metadata": {},
   "outputs": [],
   "source": [
    "# CHECK IF SUBSTRING IS IN ALL DNA STRINGS\n",
    "\n",
    "# n=len(dataset), N=len(dna) \n",
    "# O(n)\n",
    "def substr_in_all(arr, part):          \n",
    "    for dna in arr:\n",
    "        if dna.find(part)==-1:\n",
    "            return False\n",
    "    return True\n",
    "\n",
    "\n",
    "# return common substring of length l else return '' \n",
    "\n",
    "#O(N*n)\n",
    "def common_substr(arr, l):\n",
    "    first = arr[0]\n",
    "    for i in range(len(first)-l+1):\n",
    "        part = first[i:i+l]\n",
    "        if substr_in_all(arr, part):\n",
    "            return part\n",
    "    return \"\"\n",
    "\n",
    "# binary search to find the longest common substring   (O(log(N)*N*n ))\n",
    "def longest_common_substr(arr):\n",
    "    l = 0; r = len(arr[0])\n",
    "\n",
    "    while l+1<r:\n",
    "        print(l,r)\n",
    "        mid = (l+r)// 2\n",
    "        if common_substr(arr, mid)!=\"\":\n",
    "            l=mid\n",
    "        else:\n",
    "            r=mid\n",
    "\n",
    "    return common_substr(arr, l)\n"
   ]
  },
  {
   "cell_type": "code",
   "execution_count": 14,
   "id": "cbe640c4",
   "metadata": {},
   "outputs": [],
   "source": [
    "from Bio import SeqIO\n",
    "\n",
    "fasta = \"rosalind_lcsm.txt\"\n",
    "from Bio import SeqIO\n",
    "\n",
    "arr=[]\n",
    "with open(fasta) as handle:\n",
    "    for record in SeqIO.parse(handle, \"fasta\"):\n",
    "        arr.append(record.seq)"
   ]
  },
  {
   "cell_type": "code",
   "execution_count": 15,
   "id": "86c5ba95",
   "metadata": {},
   "outputs": [
    {
     "name": "stdout",
     "output_type": "stream",
     "text": [
      "0 1000\n",
      "0 500\n",
      "0 250\n",
      "125 250\n",
      "187 250\n",
      "218 250\n",
      "234 250\n",
      "234 242\n",
      "238 242\n",
      "238 240\n"
     ]
    }
   ],
   "source": [
    "lo=longest_common_substr(arr)"
   ]
  },
  {
   "cell_type": "code",
   "execution_count": 16,
   "id": "641ea1a1",
   "metadata": {
    "scrolled": true
   },
   "outputs": [
    {
     "name": "stdout",
     "output_type": "stream",
     "text": [
      "GTATTCTAGCAGGTGTTCGCTACAGTAGATCCAACTCTTATGTTTATACACTACGTGGTTTGTCACGTGGATTCGATCTAGTACTTACCACGGAGAACGACATGTCCCCGACCCCGCTAGTTGCAACGGGGCGGGAATTTACGTAACATTAAGTAGCTTACCACAACGGCAAAAATCGTCGCGGTCTTCTCAGTTACAGGCCACCCGCCGACATGGAGAGTCGCGCTTCAACTTGTTA"
     ]
    },
    {
     "data": {
      "text/plain": [
       "238"
      ]
     },
     "execution_count": 16,
     "metadata": {},
     "output_type": "execute_result"
    }
   ],
   "source": [
    "for i in lo:\n",
    "    print(i,end='')\n",
    "    \n",
    "len(lo)"
   ]
  },
  {
   "cell_type": "code",
   "execution_count": null,
   "id": "a2dfa9bc",
   "metadata": {},
   "outputs": [],
   "source": []
  },
  {
   "cell_type": "markdown",
   "id": "56e25758",
   "metadata": {},
   "source": [
    "### Reverse palindrome:  https://rosalind.info/problems/revp/"
   ]
  },
  {
   "cell_type": "code",
   "execution_count": 17,
   "id": "de62c03d",
   "metadata": {},
   "outputs": [],
   "source": [
    "from Bio import SeqIO\n",
    "\n",
    " \n",
    "fasta = \"rosalind_revp.txt\"\n",
    "from Bio import SeqIO\n",
    "\n",
    "arr=[]\n",
    "with open(fasta) as handle:\n",
    "    for record in SeqIO.parse(handle, \"fasta\"):\n",
    "        arr.append(record.seq)\n",
    "        \n",
    "        \n",
    "x='TCAATGCATGCGGGTCTATATGCAT'"
   ]
  },
  {
   "cell_type": "code",
   "execution_count": 18,
   "id": "c960ef82",
   "metadata": {},
   "outputs": [],
   "source": [
    "arr=arr[0]"
   ]
  },
  {
   "cell_type": "code",
   "execution_count": 19,
   "id": "1e7d769b",
   "metadata": {},
   "outputs": [
    {
     "data": {
      "text/plain": [
       "Seq('CGCGAGAAGGAGAAAGCCTATACTGGGGAGATGGGGACTGGTGGATTGGTTTGA...TAT')"
      ]
     },
     "execution_count": 19,
     "metadata": {},
     "output_type": "execute_result"
    }
   ],
   "source": [
    "arr"
   ]
  },
  {
   "cell_type": "code",
   "execution_count": 20,
   "id": "1e46f964",
   "metadata": {},
   "outputs": [],
   "source": [
    "d={'A':'T','T':\"A\",'G':'C','C':\"G\"}\n",
    "\n",
    "# check if an array is reverse palindrome\n",
    "def is_reverse_pali(arr):\n",
    "    res=''\n",
    "    for i,nuc in enumerate(arr):\n",
    "        res_nuc=d[nuc]\n",
    "        res+=res_nuc\n",
    "    if(res==arr[::-1]):return True\n",
    "    else:return False"
   ]
  },
  {
   "cell_type": "code",
   "execution_count": 21,
   "id": "23d62084",
   "metadata": {
    "scrolled": true
   },
   "outputs": [
    {
     "data": {
      "text/plain": [
       "[(1, 4),\n",
       " (19, 4),\n",
       " (78, 4),\n",
       " (105, 4),\n",
       " (111, 4),\n",
       " (122, 4),\n",
       " (153, 4),\n",
       " (196, 4),\n",
       " (208, 6),\n",
       " (209, 4),\n",
       " (244, 4),\n",
       " (273, 4),\n",
       " (283, 4),\n",
       " (297, 4),\n",
       " (321, 8),\n",
       " (322, 6),\n",
       " (323, 4),\n",
       " (341, 4),\n",
       " (355, 4),\n",
       " (362, 4),\n",
       " (377, 6),\n",
       " (378, 4),\n",
       " (421, 4),\n",
       " (442, 12),\n",
       " (443, 10),\n",
       " (444, 8),\n",
       " (445, 6),\n",
       " (446, 4),\n",
       " (451, 6),\n",
       " (452, 4),\n",
       " (475, 8),\n",
       " (476, 6),\n",
       " (477, 4),\n",
       " (492, 4),\n",
       " (505, 4),\n",
       " (524, 4),\n",
       " (549, 4),\n",
       " (563, 4),\n",
       " (582, 8),\n",
       " (583, 6),\n",
       " (584, 4),\n",
       " (606, 4),\n",
       " (646, 4),\n",
       " (666, 4),\n",
       " (680, 4),\n",
       " (695, 4),\n",
       " (698, 4),\n",
       " (706, 4),\n",
       " (740, 6),\n",
       " (741, 4),\n",
       " (744, 4),\n",
       " (751, 4),\n",
       " (784, 4),\n",
       " (788, 6),\n",
       " (789, 4),\n",
       " (824, 6),\n",
       " (825, 4),\n",
       " (840, 6),\n",
       " (840, 12),\n",
       " (841, 4),\n",
       " (841, 10),\n",
       " (842, 8),\n",
       " (843, 6),\n",
       " (844, 4),\n",
       " (846, 6),\n",
       " (847, 4),\n",
       " (862, 6),\n",
       " (863, 4),\n",
       " (878, 4),\n",
       " (891, 4)]"
      ]
     },
     "execution_count": 21,
     "metadata": {},
     "output_type": "execute_result"
    }
   ],
   "source": [
    "result=[]\n",
    "for i in range(4,13): # beetween 4 and 12 \n",
    "    for j in range( len(arr)-i +1 ):\n",
    "        if(is_reverse_pali( arr[j:j+i] ) ):\n",
    "            result.append( ( j+1,len(arr[j:j+i])) )\n",
    "\n",
    "#sort result \n",
    "def fun(x):return x[0]        \n",
    "result.sort(key=fun) \n",
    "\n",
    "result"
   ]
  },
  {
   "cell_type": "code",
   "execution_count": 22,
   "id": "7230f2fa",
   "metadata": {},
   "outputs": [],
   "source": [
    "#write result to txt\n",
    "with open(\"output.txt\", \"w\") as txt_file:\n",
    "    for line in result:\n",
    "        txt_file.write( str(line[0])+f' {str(line[1])}' )\n",
    "    \n",
    "        txt_file.write('\\n')\n"
   ]
  },
  {
   "cell_type": "code",
   "execution_count": null,
   "id": "8d79b91f",
   "metadata": {},
   "outputs": [],
   "source": []
  },
  {
   "cell_type": "markdown",
   "id": "9cb4fea3",
   "metadata": {},
   "source": [
    " ### Enumerating Oriented Gene Orderings https://rosalind.info/problems/sign/"
   ]
  },
  {
   "cell_type": "code",
   "execution_count": 23,
   "id": "ae53c7a0",
   "metadata": {},
   "outputs": [
    {
     "name": "stdout",
     "output_type": "stream",
     "text": [
      "3840\n"
     ]
    }
   ],
   "source": [
    "import itertools\n",
    "n=5\n",
    "x=[]\n",
    "for i in range(1,n+1):\n",
    "    x.append(i)\n",
    "c=0\n",
    "res=[]\n",
    "perms= list(itertools.permutations(x,n))\n",
    "for perm in perms:\n",
    "    ones=itertools.product([-1,1],repeat=len(x))\n",
    "    for one in ones:\n",
    "        c+=1\n",
    "        res.append([a*m for a,m in zip(perm,one)])\n",
    "print(c)"
   ]
  },
  {
   "cell_type": "code",
   "execution_count": 24,
   "id": "c0a65d9f",
   "metadata": {},
   "outputs": [],
   "source": [
    "with open(\"output.txt\", \"w\") as txt_file:\n",
    "    for line in res:\n",
    "        txt_file.write('\\n')\n",
    "        for num in line:\n",
    "            txt_file.write(f'{num} ')\n",
    "\n",
    "\n"
   ]
  },
  {
   "cell_type": "code",
   "execution_count": null,
   "id": "00b31c84",
   "metadata": {},
   "outputs": [],
   "source": []
  },
  {
   "cell_type": "markdown",
   "id": "dffd039e",
   "metadata": {},
   "source": [
    "### Computing GC Content"
   ]
  },
  {
   "cell_type": "code",
   "execution_count": 25,
   "id": "19cbaee5",
   "metadata": {},
   "outputs": [
    {
     "data": {
      "text/plain": [
       "0.6091954022988506"
      ]
     },
     "execution_count": 25,
     "metadata": {},
     "output_type": "execute_result"
    }
   ],
   "source": [
    "x='CCACCCTCGTGGTATGGCTAGGCATTCAGGAACCGGAGAACGCTTCAGACCAGCCCGGACTGGGAACCTGCGGGCAGTAGGTGGAAT'\n",
    "def gcContent(x):\n",
    "    n=len(x)\n",
    "    c=0\n",
    "    for i in x:\n",
    "        if i=='C' or i==\"G\":\n",
    "            c+=1\n",
    "    return c/n\n",
    "\n",
    "gcContent(x)"
   ]
  },
  {
   "cell_type": "code",
   "execution_count": 26,
   "id": "8b6998a7",
   "metadata": {},
   "outputs": [
    {
     "name": "stdout",
     "output_type": "stream",
     "text": [
      "Rosalind_8420\n",
      "Rosalind_1762\n",
      "Rosalind_6534\n",
      "Rosalind_6756\n",
      "Rosalind_6098\n",
      "Rosalind_4607\n",
      "Rosalind_9788\n",
      "Rosalind_4123\n",
      "Rosalind_9239\n"
     ]
    }
   ],
   "source": [
    "from Bio import SeqIO\n",
    "import numpy as np\n",
    "fasta = \"rosalind_gc.txt\"\n",
    "from Bio import SeqIO\n",
    "\n",
    "arr=[]\n",
    "with open(fasta) as handle:\n",
    "    for record in SeqIO.parse(handle, \"fasta\"):\n",
    "        arr.append(record.seq)\n",
    "        print(record.id)"
   ]
  },
  {
   "cell_type": "code",
   "execution_count": 27,
   "id": "6e5bd97f",
   "metadata": {},
   "outputs": [
    {
     "data": {
      "text/plain": [
       "(0, 51.937046004842614)"
      ]
     },
     "execution_count": 27,
     "metadata": {},
     "output_type": "execute_result"
    }
   ],
   "source": [
    "gc=list(map(gcContent,arr))\n",
    "i=np.argmax(gc)\n",
    "i,gc[i]*100"
   ]
  },
  {
   "cell_type": "code",
   "execution_count": null,
   "id": "41851129",
   "metadata": {},
   "outputs": [],
   "source": []
  },
  {
   "cell_type": "markdown",
   "id": "614dfa71",
   "metadata": {},
   "source": [
    "### Enumerating k-mers Lexicographically"
   ]
  },
  {
   "cell_type": "code",
   "execution_count": 28,
   "id": "47839b3a",
   "metadata": {},
   "outputs": [],
   "source": [
    "\n",
    "res=list(itertools.product(['A','B','C','D','E','F','G','H','I','J'],repeat=2))\n",
    "with open(\"output.txt\", \"w\") as txt_file:\n",
    "    for line in res:\n",
    "        txt_file.write('\\n')\n",
    "        for num in line:\n",
    "            txt_file.write(f'{num}')"
   ]
  },
  {
   "cell_type": "code",
   "execution_count": null,
   "id": "3c5287c4",
   "metadata": {},
   "outputs": [],
   "source": []
  },
  {
   "cell_type": "markdown",
   "id": "2ab2b876",
   "metadata": {},
   "source": [
    "### Overlap Graphs https://rosalind.info/problems/grph/"
   ]
  },
  {
   "cell_type": "code",
   "execution_count": 29,
   "id": "e30a8772",
   "metadata": {},
   "outputs": [],
   "source": [
    "from Bio import SeqIO\n",
    "\n",
    " \n",
    "fasta = \"rosalind_grph.txt\"\n",
    "from Bio import SeqIO\n",
    "\n",
    "dna_table_big={}\n",
    "with open(fasta) as handle:\n",
    "    for record in SeqIO.parse(handle, \"fasta\"):\n",
    "        dna_table_big[record.seq]=record.name\n",
    "        "
   ]
  },
  {
   "cell_type": "code",
   "execution_count": 30,
   "id": "28879e0a",
   "metadata": {},
   "outputs": [
    {
     "data": {
      "text/plain": [
       "{'AAATAAA': 'Rosalind_0498',\n",
       " 'AAATTTT': 'Rosalind_2391',\n",
       " 'TTTTCCC': 'Rosalind_2323',\n",
       " 'AAATCCC': 'Rosalind_0442',\n",
       " 'GGGTGGG': 'Rosalind_5013'}"
      ]
     },
     "execution_count": 30,
     "metadata": {},
     "output_type": "execute_result"
    }
   ],
   "source": [
    "import numpy as np\n",
    "data=\"\"\">Rosalind_0498\n",
    "AAATAAA\n",
    ">Rosalind_2391\n",
    "AAATTTT\n",
    ">Rosalind_2323\n",
    "TTTTCCC\n",
    ">Rosalind_0442\n",
    "AAATCCC\n",
    ">Rosalind_5013\n",
    "GGGTGGG\"\"\"\n",
    "data=data.replace('>','')\n",
    "data=data.split('\\n')\n",
    "dna_table={}\n",
    "for i in range( len(data)-1,):\n",
    "    if i%2==0:\n",
    "        dna_table[data[i+1]]=data[i]\n",
    "dna_table"
   ]
  },
  {
   "cell_type": "code",
   "execution_count": 31,
   "id": "a9d98202",
   "metadata": {},
   "outputs": [],
   "source": [
    "def overlap_graphs(table,k):\n",
    "    data=list(table.keys())\n",
    "    res=[]\n",
    "    for i,dna in enumerate(data):\n",
    "        \n",
    "        for j in range(len(data)):\n",
    "            if(data[j][0:k]==dna[-k:] and data[j]!=dna):\n",
    "                res.append( [ table[dna], table[data[j]] ] )\n",
    "    return res"
   ]
  },
  {
   "cell_type": "code",
   "execution_count": 32,
   "id": "2cc95beb",
   "metadata": {},
   "outputs": [
    {
     "data": {
      "text/plain": [
       "[['Rosalind_0498', 'Rosalind_2391'],\n",
       " ['Rosalind_0498', 'Rosalind_0442'],\n",
       " ['Rosalind_2391', 'Rosalind_2323']]"
      ]
     },
     "execution_count": 32,
     "metadata": {},
     "output_type": "execute_result"
    }
   ],
   "source": [
    "overlap_graphs(dna_table,3)"
   ]
  },
  {
   "cell_type": "code",
   "execution_count": 33,
   "id": "994801f0",
   "metadata": {},
   "outputs": [
    {
     "data": {
      "text/plain": [
       "[['Rosalind_5410', 'Rosalind_6884'],\n",
       " ['Rosalind_5410', 'Rosalind_9369'],\n",
       " ['Rosalind_1246', 'Rosalind_2257'],\n",
       " ['Rosalind_1246', 'Rosalind_7357'],\n",
       " ['Rosalind_2605', 'Rosalind_6435'],\n",
       " ['Rosalind_2605', 'Rosalind_0782'],\n",
       " ['Rosalind_2605', 'Rosalind_3772'],\n",
       " ['Rosalind_9355', 'Rosalind_9301'],\n",
       " ['Rosalind_9355', 'Rosalind_3473'],\n",
       " ['Rosalind_0536', 'Rosalind_0145']]"
      ]
     },
     "execution_count": 33,
     "metadata": {},
     "output_type": "execute_result"
    }
   ],
   "source": [
    "overlap_graph=overlap_graphs(dna_table_big,3)\n",
    "overlap_graph[0:10]"
   ]
  },
  {
   "cell_type": "code",
   "execution_count": 34,
   "id": "924e3814",
   "metadata": {},
   "outputs": [],
   "source": [
    "with open(\"output.txt\", \"w\") as txt_file:\n",
    "    for pair in overlap_graph:\n",
    "        txt_file.write(f'{pair[0]} {pair[1]}')\n",
    "        txt_file.write('\\n')\n"
   ]
  },
  {
   "cell_type": "code",
   "execution_count": null,
   "id": "06d528ac",
   "metadata": {},
   "outputs": [],
   "source": []
  },
  {
   "cell_type": "markdown",
   "id": "afc24efd",
   "metadata": {},
   "source": [
    "### RNA Splicing  https://rosalind.info/problems/splc/"
   ]
  },
  {
   "cell_type": "code",
   "execution_count": 35,
   "id": "b9a7305f",
   "metadata": {},
   "outputs": [
    {
     "data": {
      "text/plain": [
       "'MVYIADKQHVASREAYGHMFKVCA'"
      ]
     },
     "execution_count": 35,
     "metadata": {},
     "output_type": "execute_result"
    }
   ],
   "source": [
    "dna='ATGGTCTACATAGCTGACAAACAGCACGTAGCAATCGGTCGAATCTCGAGAGGCATATGGTCACATGATCGGTCGAGCGTGTTTCAAAGTTTGCGCCTAG'\n",
    "\n",
    "introns=[\n",
    "    'ATCGGTCGAA',\n",
    "    'ATCGGTCGAGCGTGT'\n",
    "]\n",
    "\n",
    "import rosalind as r\n",
    "\n",
    "\n",
    "mRna=r.remove_introns(dna,introns)\n",
    "r.translate_dna(mRna,r.dna_table)       \n"
   ]
  },
  {
   "cell_type": "code",
   "execution_count": 36,
   "id": "bdfaff70",
   "metadata": {},
   "outputs": [],
   "source": [
    "from Bio import SeqIO\n",
    "\n",
    " \n",
    "fasta = \"rosalind_splc.txt\"\n",
    "from Bio import SeqIO\n",
    "\n",
    "introns=[]\n",
    "c=0\n",
    "with open(fasta) as handle:\n",
    "    for record in SeqIO.parse(handle, \"fasta\"):\n",
    "        c+=1\n",
    "        if c==1:\n",
    "            dna=record.seq\n",
    "        else: introns.append(record.seq)"
   ]
  },
  {
   "cell_type": "code",
   "execution_count": 37,
   "id": "2208758b",
   "metadata": {},
   "outputs": [
    {
     "data": {
      "text/plain": [
       "'MIERQLVLVIPIKMPTILPTTYSRRKWSLAPSEFTLQTAVFYHEFSVRRLRVVLHPHVHIDQFTPSTVLGLVSRLPGKFSPARSRSVTPHILVLCCVAGYSLRVLPLSIICREVVHLLFGVAKVQLKDQVMGCVCREGRCCSFQCSKKHCASCGWASTVPGIKRRLALIATQSSRGSYRILVQYLK'"
      ]
     },
     "execution_count": 37,
     "metadata": {},
     "output_type": "execute_result"
    }
   ],
   "source": [
    "mRna=r.remove_introns(dna,introns)\n",
    "\n",
    "r.translate_dna(mRna,r.dna_table)"
   ]
  },
  {
   "cell_type": "markdown",
   "id": "6b9464e6",
   "metadata": {},
   "source": [
    "### Completing a Tree https://rosalind.info/problems/tree/"
   ]
  },
  {
   "cell_type": "markdown",
   "id": "c8e9fbc9",
   "metadata": {},
   "source": [
    "$$ N_{edges} = N_{nodes} -1 $$\n",
    "\n",
    "Let X be the minimum number of edges that can be added to produce a tree. Then:\n",
    "\n",
    "$$ X + N_{currentEdges}=N_{node} -1 $$\n"
   ]
  },
  {
   "cell_type": "code",
   "execution_count": 38,
   "id": "10df4425",
   "metadata": {},
   "outputs": [],
   "source": [
    "with open(\"rosalind_tree (1).txt\", \"r\") as txt_file:\n",
    "    c=0\n",
    "    for line in txt_file:\n",
    "        c+=1\n",
    "        if c==1:\n",
    "            N=int(line)\n"
   ]
  },
  {
   "cell_type": "code",
   "execution_count": 39,
   "id": "bc15760d",
   "metadata": {},
   "outputs": [
    {
     "data": {
      "text/plain": [
       "63"
      ]
     },
     "execution_count": 39,
     "metadata": {},
     "output_type": "execute_result"
    }
   ],
   "source": [
    "n_edges=c-1\n",
    "\n",
    "res=N-1-n_edges\n",
    "res"
   ]
  },
  {
   "cell_type": "code",
   "execution_count": null,
   "id": "611da611",
   "metadata": {},
   "outputs": [],
   "source": []
  },
  {
   "cell_type": "markdown",
   "id": "2cfd3386",
   "metadata": {},
   "source": [
    "### Independent Alleles  https://rosalind.info/problems/lia/"
   ]
  },
  {
   "cell_type": "code",
   "execution_count": 40,
   "id": "a67d928c",
   "metadata": {},
   "outputs": [
    {
     "data": {
      "text/plain": [
       "0.684"
      ]
     },
     "execution_count": 40,
     "metadata": {},
     "output_type": "execute_result"
    }
   ],
   "source": [
    "from scipy.stats import binom\n",
    "k=2\n",
    "N=1\n",
    "s=0\n",
    "for i in range(N, 2**k+1):\n",
    "    s+= binom.pmf(i,2**k,0.25)  # binomial distribution\n",
    "round(s,3)"
   ]
  },
  {
   "cell_type": "markdown",
   "id": "34b2b3f8",
   "metadata": {},
   "source": [
    "#### With simulation:"
   ]
  },
  {
   "cell_type": "code",
   "execution_count": 41,
   "id": "1c9a83b3",
   "metadata": {
    "scrolled": false
   },
   "outputs": [],
   "source": [
    "\n",
    "class organism_2_factors():\n",
    "    def __init__(self):\n",
    "        self.factor_1=hete()\n",
    "        self.factor_2=hete()\n",
    "        \n",
    "k=2\n",
    "N=1\n",
    "N_simulations=10000\n",
    "mate=hete()\n",
    "simulations=[]\n",
    "for i in range(N_simulations):\n",
    "    population=[\n",
    "    [organism_2_factors()]\n",
    "]\n",
    "    \n",
    "    for generation in range(k):\n",
    "        population.append([])\n",
    "        for n,parent in enumerate(population[generation]):\n",
    "            for j in range(2):\n",
    "                child=organism_2_factors()\n",
    "                child.factor_1.alleles[0]=np.random.choice(parent.factor_1.alleles)\n",
    "                child.factor_1.alleles[1]=np.random.choice(mate.alleles)\n",
    "                child.factor_2.alleles[0]=np.random.choice(parent.factor_2.alleles)\n",
    "                child.factor_2.alleles[1]=np.random.choice(mate.alleles)\n",
    "                population[generation+1].append(child)\n",
    "    simulations.append(population[generation+1])\n",
    "    del population[generation+1]"
   ]
  },
  {
   "cell_type": "code",
   "execution_count": 42,
   "id": "2d9e2a6e",
   "metadata": {},
   "outputs": [
    {
     "data": {
      "text/plain": [
       "0.6897"
      ]
     },
     "execution_count": 42,
     "metadata": {},
     "output_type": "execute_result"
    }
   ],
   "source": [
    "counter=0\n",
    "\n",
    "alleles={'X','x'}\n",
    "def check(arr):\n",
    "    return ('X' in arr and 'x' in arr)\n",
    "\n",
    "for simulation in simulations:\n",
    "    c=0\n",
    "    for child in simulation:\n",
    "        if check(child.factor_1.alleles) and check(child.factor_2.alleles):\n",
    "            c+=1\n",
    "        \n",
    "    if c>=N: counter+=1\n",
    "        \n",
    "counter/N_simulations"
   ]
  },
  {
   "cell_type": "code",
   "execution_count": null,
   "id": "d71d4011",
   "metadata": {},
   "outputs": [],
   "source": []
  },
  {
   "cell_type": "markdown",
   "id": "c28beda7",
   "metadata": {},
   "source": [
    "### Inferring mRNA from Protein  https://rosalind.info/problems/mrna/"
   ]
  },
  {
   "cell_type": "code",
   "execution_count": 47,
   "id": "f838f3e0",
   "metadata": {},
   "outputs": [
    {
     "data": {
      "text/plain": [
       "165952"
      ]
     },
     "execution_count": 47,
     "metadata": {},
     "output_type": "execute_result"
    }
   ],
   "source": [
    "import rosalind as r\n",
    "protein='MAVMACMAIIPEIGYTNWLHRKVNSERQFHHKAHTFPVNNGQQQLAKNVSNNEESIHHHAQNTSQNWDFTQHTVETSMLEMDPVESGAVDMLRRPAEKIPETVCIGDMNYGCGEYQNCPIKKMGIMTEWGMQRRCVWYSIQLKWWVESCPQKPRHMKSHFFMDQIADAHEFDGRYGPSLDKTFKEACMGYMNFNYMMDKGCVMCLIQLQSQKGYIHAVICTKYQPRIGLAAPKLWTFAYFIGFERFTFWRRSHEFCWLNEKRNARMNNKEYQDPLTDIRHRVHFHIKTVSGEAIRSMRCYSLWWPHTEIHSPKPLPAPRTGSVSYLKNLKQEILIQSKAGVHPNLTRIIPWEFHDIDVPIEHWMMWQPFEEWFGQLCALPQIFSKRLWDPEIREASLKYLDQKIIGFMMATESMALHKPLYMTIMCLSYPCDSCQESANLGRYQHMPHANNQNFQAAYCRTYRLYEWPAPSKPECFANVMVQGMADMVQECLKSCPLEQTLYTFYIISWDMRPPWICVAGTRCKFTTYGNFGSNILKAIMWAPKWMCNMVPNGEPNYIITSDDSTELCISKMYQYLLHQQIKWTYVHLFIMYRARIGETDTNDNIPIGSAFTCFVALSNYPIENYKSTIQHWWFCKEAYTCWEQIIKTDAEDCLVNHKYFMVKLLCFRFYMYYGRDSKCMCPYKWYWFCMQGILRNGWHFKAGFHPIYEPRPYGKTEHCQQTALKPCFINPHVMMPGISPFGFGFWPSATMMEYFNIPWHVFNWYAQHETDMNVKMVIYNFDIGTDKRSWNGYNPDFQVWDQIAGEDSTCQADMKDFMDTMENNNTQYLHRGYTFYNYMISKFQMDEHRAPRSELCKNQEINRCVNDLTWEFEHEITLTGKIGGHFKHHVELDPIHFLEFNPGPFLAIPFHLYTKTWTDPCSASVEIVNLRLIPNHHTNFGFVRYGKCEETWGNDWNDIQDDLVSNMIFMCYDRLNYSQEFSWAHNGHSAHANGQRMKSW'\n",
    "s=3\n",
    "mod=1000000\n",
    "rna_table_vals=list(r.rna_table.values())\n",
    "for acid in protein:\n",
    "    s=(s*rna_table_vals.count(acid))%mod\n",
    "    \n",
    "s"
   ]
  },
  {
   "cell_type": "code",
   "execution_count": null,
   "id": "ef25c6c4",
   "metadata": {},
   "outputs": [],
   "source": []
  },
  {
   "cell_type": "code",
   "execution_count": null,
   "id": "3c03f701",
   "metadata": {},
   "outputs": [],
   "source": []
  },
  {
   "cell_type": "code",
   "execution_count": null,
   "id": "9759b681",
   "metadata": {},
   "outputs": [],
   "source": []
  }
 ],
 "metadata": {
  "kernelspec": {
   "display_name": "Python 3 (ipykernel)",
   "language": "python",
   "name": "python3"
  },
  "language_info": {
   "codemirror_mode": {
    "name": "ipython",
    "version": 3
   },
   "file_extension": ".py",
   "mimetype": "text/x-python",
   "name": "python",
   "nbconvert_exporter": "python",
   "pygments_lexer": "ipython3",
   "version": "3.9.13"
  }
 },
 "nbformat": 4,
 "nbformat_minor": 5
}
